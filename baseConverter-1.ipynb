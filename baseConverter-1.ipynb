{
 "cells": [
  {
   "cell_type": "code",
   "execution_count": 4,
   "id": "f797ec81-1ae2-4821-b970-dcf461a9724c",
   "metadata": {},
   "outputs": [
    {
     "name": "stdin",
     "output_type": "stream",
     "text": [
      "Enter the number to convert:  3673\n",
      "Enter the base:  7\n"
     ]
    },
    {
     "name": "stdout",
     "output_type": "stream",
     "text": [
      "The (decimal) 3673 converts into 13465 in base 7\n"
     ]
    }
   ],
   "source": [
    "u = int(input('Enter the number to convert: '))\n",
    "b = int(input('Enter the base: '))\n",
    "n = u\n",
    "\n",
    "list_digit = []\n",
    "\n",
    "while n != 1:\n",
    "    k = n % b \n",
    "    list_digit.append(k)\n",
    "    n = n // b\n",
    "list_digit.append(n)\n",
    "list_digit.reverse()\n",
    "\n",
    "p = ''\n",
    "for i in list_digit:\n",
    "    p += str(i)\n",
    "\n",
    "print(f'The (decimal) {u} converts into {p} in base {b}')\n"
   ]
  },
  {
   "cell_type": "code",
   "execution_count": null,
   "id": "37d7ac1e-5fe5-4382-acd8-d26816848274",
   "metadata": {},
   "outputs": [],
   "source": []
  }
 ],
 "metadata": {
  "kernelspec": {
   "display_name": "Python 3 (ipykernel)",
   "language": "python",
   "name": "python3"
  },
  "language_info": {
   "codemirror_mode": {
    "name": "ipython",
    "version": 3
   },
   "file_extension": ".py",
   "mimetype": "text/x-python",
   "name": "python",
   "nbconvert_exporter": "python",
   "pygments_lexer": "ipython3",
   "version": "3.9.13"
  }
 },
 "nbformat": 4,
 "nbformat_minor": 5
}
