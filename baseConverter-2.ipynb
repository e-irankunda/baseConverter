{
 "cells": [
  {
   "cell_type": "code",
   "execution_count": null,
   "id": "30ed957c-6cac-4c5a-9cef-67a0afe2629e",
   "metadata": {},
   "outputs": [],
   "source": [
    "u = int(input('Enter the number to convert: '))\n",
    "b = int(input('Enter the base: '))\n",
    "n = u\n",
    "\n",
    "num_letter = {'10':'A','11':'B',\n",
    "                  '12':'C','13':'D',\n",
    "                  '14':'E','15':'F',\n",
    "                  '16':'G','17':'H',\n",
    "                  '18':'I','19':'J',\n",
    "                  '20':'K','21':'L',\n",
    "                  '22':'M','23':'N',\n",
    "                  '24':'O','25':'P',\n",
    "                  '26':'Q','27':'R',\n",
    "                  '28':'S','29':'T',\n",
    "                  '30':'U','31':'V',\n",
    "                  '32':'W','33':'X',\n",
    "                  '34':'Y','35':'Z' \n",
    "                 }\n",
    "\n",
    "list_digit = []\n",
    "\n",
    "if b <= 9:\n",
    "    while n != 1:\n",
    "        k = n % b\n",
    "        list_digit.append(k)\n",
    "        n = n // b\n",
    "        \n",
    "    list_digit.append(n)\n",
    "    \n",
    "else:\n",
    "    k = n % b\n",
    "    if str(k) in num_letter:\n",
    "        list_digit.append(num_letter[str(k)])\n",
    "        n = n // b\n",
    "        \n",
    "    else:\n",
    "        print('Unexpected Error')\n",
    "    \n",
    "list_digit.reverse()\n",
    "\n",
    "p = ''\n",
    "for i in list_digit:\n",
    "    p += str(i)\n",
    "\n",
    "print(f'The (decimal) {u} converts into {p} in base {b}')"
   ]
  },
  {
   "cell_type": "code",
   "execution_count": null,
   "id": "71d12f0d-66ce-478a-9f4c-4741cf65ba16",
   "metadata": {},
   "outputs": [],
   "source": []
  }
 ],
 "metadata": {
  "kernelspec": {
   "display_name": "Python 3 (ipykernel)",
   "language": "python",
   "name": "python3"
  },
  "language_info": {
   "codemirror_mode": {
    "name": "ipython",
    "version": 3
   },
   "file_extension": ".py",
   "mimetype": "text/x-python",
   "name": "python",
   "nbconvert_exporter": "python",
   "pygments_lexer": "ipython3",
   "version": "3.9.13"
  }
 },
 "nbformat": 4,
 "nbformat_minor": 5
}
